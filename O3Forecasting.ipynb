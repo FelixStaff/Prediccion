{
 "cells": [
  {
   "cell_type": "code",
   "execution_count": 35,
   "metadata": {},
   "outputs": [],
   "source": [
    "import torch\n",
    "import torch.nn as nn\n",
    "import torch.nn.functional as F\n",
    "import torch.optim as optim\n",
    "import matplotlib.pyplot as plt\n",
    "import numpy as np\n",
    "import pandas as pd\n",
    "# Importar datos\n",
    "from torchvision import datasets, transforms\n",
    "from torch.utils.data import DataLoader\n",
    "from torchvision.utils import save_image\n",
    "# importar la libreria para separar en train y test\n",
    "from sklearn.model_selection import train_test_split\n",
    "from tqdm import tqdm"
   ]
  },
  {
   "cell_type": "code",
   "execution_count": 36,
   "metadata": {},
   "outputs": [],
   "source": [
    "# Load the data from https://raw.githubusercontent.com/gziz/cei-ds/main/data/raw/aire_06_06_22.csv?token=GHSAT0AAAAAABV45OK4NME4K6KBZNPUBQ6IYV6G63A\n",
    "data_raw = pd.read_csv('DataJuarez/aire_06_06_22.csv')\n",
    "input_CSV = ['CO','NO2','PM10','PM25','SO2','O3']\n",
    "device = torch.device(\"cuda:0\" if torch.cuda.is_available() else \"cpu\")"
   ]
  },
  {
   "cell_type": "code",
   "execution_count": 37,
   "metadata": {},
   "outputs": [],
   "source": [
    "def clean_data(data):\n",
    "    # Eliminar la columan llamada 'Unnamed: 0'\n",
    "    data = data.drop(['Unnamed: 0'], axis=1)\n",
    "    # Eliminar las columnas que sean solo NaN\n",
    "    for col in input_CSV:\n",
    "        data.drop(data[data[col] <= 0].index, inplace=True)\n",
    "    return data"
   ]
  },
  {
   "cell_type": "code",
   "execution_count": 54,
   "metadata": {},
   "outputs": [],
   "source": [
    "data = clean_data(data_raw)\n",
    "# agarrar solo los datos de la Sensor_id S6 y S7\n",
    "data_S6 = data[data['Sensor_id'].isin(['ANL6'])]\n",
    "# order by sensor_id\n",
    "data_S6 = data_S6.sort_values(by=['Sensor_id'])\n",
    "#borrar las filas que no tengan O3\n",
    "data_S6 = data_S6[data_S6['O3'] > 0]\n",
    "#borrar las filas que no tengan PM10\n",
    "data_S6 = data_S6[data_S6['PM10'] > 0]\n",
    "#borrar las filas que no tengan PM25\n",
    "data_S6 = data_S6[data_S6['PM25'] > 0]\n",
    "#borrar las filas que no tengan SO2\n",
    "data_S6 = data_S6[data_S6['SO2'] > 0]\n",
    "#borrar las filas que no tengan NO2\n",
    "data_S6 = data_S6[data_S6['NO2'] > 0]\n",
    "# quitar la columna de Dia\n",
    "data_S6 = data_S6.drop(['Dia'], axis=1)\n",
    "# quitar la columna de Registros_id\n",
    "data_S6 = data_S6.drop(['Registros_id'], axis=1)\n",
    "# quitar Sensor_id\n",
    "data_S6 = data_S6.drop(['Sensor_id'], axis=1)\n",
    "# quitar HUMEDAD\n",
    "#data_S6 = data_S6.drop(['HUMEDAD'], axis=1)\n",
    "# quitar TEMPERATURA\n",
    "#data_S6 = data_S6.drop(['TEMPERATURA'], axis=1)\n",
    "# convertir nans en 0\n",
    "data_S6 = data_S6.fillna(0)\n",
    "# convertir los datos a numpy\n",
    "data_S6_numpy = data_S6.to_numpy()"
   ]
  },
  {
   "cell_type": "code",
   "execution_count": 55,
   "metadata": {},
   "outputs": [],
   "source": [
    "# Hacer los valores de salida y entrada\n",
    "# El valor respuesta es el siguiente dato\n",
    "X_data = data_S6_numpy[:-1,:]\n",
    "y_data = data_S6_numpy[1:,:]\n",
    "# estandarizar los datos\n",
    "#\"\"\"\n",
    "X_data = (X_data - X_data.mean(axis=0)) / X_data.std(axis=0)\n",
    "y_data = (y_data - y_data.mean(axis=0)) / y_data.std(axis=0)\n",
    "#\"\"\"\n",
    "# separar los datos en train y test\n",
    "X_train, X_test, y_train, y_test = train_test_split(X_data, y_data, test_size=0.2, shuffle=False)\n",
    "# convertir los datos a tensor\n",
    "X_train = torch.from_numpy(X_train).float().to(device)\n",
    "X_test = torch.from_numpy(X_test).float().to(device)\n",
    "y_train = torch.from_numpy(y_train).float().to(device)\n",
    "y_test = torch.from_numpy(y_test).float().to(device)"
   ]
  },
  {
   "cell_type": "code",
   "execution_count": 56,
   "metadata": {},
   "outputs": [],
   "source": [
    "# O3 forecasting\n",
    "class O3Forecasting(nn.Module):\n",
    "    def __init__(self, input_size, hidden_size):\n",
    "        super(O3Forecasting, self).__init__()\n",
    "        self.input_size = input_size\n",
    "        self.hidden_size = hidden_size\n",
    "        self.lstm1 = nn.LSTM(input_size, hidden_size, batch_first=True)\n",
    "        self.lstm2 = nn.LSTM(hidden_size, hidden_size, batch_first=True)\n",
    "        # output size is the same as the input size\n",
    "        self.linear = nn.Linear(hidden_size, input_size)\n",
    "    def forward(self, x, future=0):\n",
    "        # outputs\n",
    "        outputs = []\n",
    "        n_sample = x.size(0)\n",
    "        # get the initial hidden state of the LSTM\n",
    "        h_t1 = torch.zeros(1, self.hidden_size).to(device)\n",
    "        c_t1 = torch.zeros(1, self.hidden_size).to(device)\n",
    "        h_t2 = torch.zeros(1, self.hidden_size).to(device)\n",
    "        c_t2 = torch.zeros(1, self.hidden_size).to(device)\n",
    "\n",
    "        for input_t in x.split(1,dim=0):\n",
    "            # input_t is a vector of size input_size\n",
    "            # h_t is a vector of size hidden_size\n",
    "            # c_t is a vector of size hidden_size\n",
    "            # output_t is a vector of size hidden_size\n",
    "            # h_t, c_t = self.lstm(input_t, (h_t, c_t))\n",
    "            #print(input_t.shape)\n",
    "            out, (h_t1, c_t1) = self.lstm1(input_t, (h_t1, c_t1))\n",
    "            out, (h_t2, c_t2) = self.lstm2(out, (h_t2, c_t2))\n",
    "            output_t = self.linear(F.gelu(h_t2))\n",
    "            #print (output_t.shape)\n",
    "            outputs.append(output_t)\n",
    "        \n",
    "        for i in range(future):\n",
    "            #print (output_t.shape)\n",
    "            out,(h_t1, c_t1) = self.lstm1(output_t, (h_t1, c_t1))\n",
    "            out,(h_t2, c_t2) = self.lstm2(out, (h_t2, c_t2))\n",
    "            output_t = self.linear(F.gelu(h_t2))\n",
    "            outputs.append(output_t)\n",
    "        \n",
    "        outputs = torch.cat(outputs, dim=0)\n",
    "        return outputs"
   ]
  },
  {
   "cell_type": "code",
   "execution_count": 57,
   "metadata": {},
   "outputs": [
    {
     "name": "stdout",
     "output_type": "stream",
     "text": [
      "torch.Size([7100, 8])\n"
     ]
    }
   ],
   "source": [
    "print (X_train.shape)"
   ]
  },
  {
   "cell_type": "code",
   "execution_count": 74,
   "metadata": {},
   "outputs": [
    {
     "name": "stdout",
     "output_type": "stream",
     "text": [
      "8\n",
      "torch.Size([7100, 8])\n"
     ]
    }
   ],
   "source": [
    "# Test the model input\n",
    "input_size = X_train.size(1)\n",
    "print (input_size)\n",
    "print (X_train.shape)\n",
    "Model = O3Forecasting(input_size=input_size, hidden_size=32)\n",
    "Model.to(device)\n",
    "output_test = Model(X_test[:10], future = 100)"
   ]
  },
  {
   "cell_type": "code",
   "execution_count": 75,
   "metadata": {},
   "outputs": [
    {
     "name": "stdout",
     "output_type": "stream",
     "text": [
      "torch.Size([110, 8])\n"
     ]
    }
   ],
   "source": [
    "print (output_test.shape)"
   ]
  },
  {
   "cell_type": "code",
   "execution_count": 76,
   "metadata": {},
   "outputs": [],
   "source": [
    "def plot_function(future = 10):\n",
    "    with torch.no_grad():\n",
    "        y_pred = Model(X_test[:future], future=future)\n",
    "        y_pred_print = y_pred.cpu().detach().numpy()[:,0]\n",
    "        y_test_print = y_test.cpu().detach().numpy()[:,0]\n",
    "    # visualizar el modelo \n",
    "    #plt.plot(y_test_print[:future], label='Real')\n",
    "    #plt.plot(y_pred_print[future:future*2], label='Predicted')\n",
    "    plt.plot(np.arange(future*2), y_test_print[:future*2], label='Real')\n",
    "    plt.plot(np.arange(future-50,future*2), y_pred_print[future-50:future*2], label='Predicted')\n",
    "    ## añadir una linea vertical\n",
    "    plt.axvline(x=future, color='r', linestyle='--', label='Future')\n",
    "    plt.legend()\n",
    "    plt.show()"
   ]
  },
  {
   "cell_type": "code",
   "execution_count": 78,
   "metadata": {},
   "outputs": [
    {
     "name": "stderr",
     "output_type": "stream",
     "text": [
      "  0%|          | 0/24 [00:00<?, ?it/s]"
     ]
    },
    {
     "name": "stdout",
     "output_type": "stream",
     "text": [
      "40.19470977783203\n"
     ]
    },
    {
     "data": {
      "image/png": "[encoded data removed]",
      "text/plain": [
       "<Figure size 432x288 with 1 Axes>"
      ]
     },
     "metadata": {
      "needs_background": "light"
     },
     "output_type": "display_data"
    },
    {
     "name": "stderr",
     "output_type": "stream",
     "text": [
      "c:\\Users\\Felipe de Jesus\\miniconda3\\envs\\FLearn\\lib\\site-packages\\torch\\optim\\lr_scheduler.py:371: UserWarning: To get the last learning rate computed by the scheduler, please use `get_last_lr()`.\n",
      "  warnings.warn(\"To get the last learning rate computed by the scheduler, \"\n",
      "  4%|▍         | 1/24 [00:05<02:11,  5.71s/it]"
     ]
    },
    {
     "name": "stdout",
     "output_type": "stream",
     "text": [
      "Epoch: 0, Batch: 0, Loss: 40.19470977783203\n",
      "Learning rate: [0.25600000000000006]\n",
      "\n",
      "\n"
     ]
    },
    {
     "name": "stderr",
     "output_type": "stream",
     "text": [
      "  8%|▊         | 2/24 [00:17<03:26,  9.38s/it]"
     ]
    },
    {
     "name": "stdout",
     "output_type": "stream",
     "text": [
      "31132.427734375\n"
     ]
    },
    {
     "name": "stderr",
     "output_type": "stream",
     "text": [
      "  8%|▊         | 2/24 [00:25<04:38, 12.65s/it]\n"
     ]
    },
    {
     "ename": "KeyboardInterrupt",
     "evalue": "",
     "output_type": "error",
     "traceback": [
      "\u001b[1;31m---------------------------------------------------------------------------\u001b[0m",
      "\u001b[1;31mKeyboardInterrupt\u001b[0m                         Traceback (most recent call last)",
      "\u001b[1;32mc:\\Users\\Felipe de Jesus\\OneDrive\\Documentos\\Programaciones\\VisualStudio\\Python\\MachineLearning\\AireNuevoLeon\\Prediccion\\O3Forecasting.ipynb Celda 11\u001b[0m in \u001b[0;36m<cell line: 8>\u001b[1;34m()\u001b[0m\n\u001b[0;32m     <a href='vscode-notebook-cell:/c%3A/Users/Felipe%20de%20Jesus/OneDrive/Documentos/Programaciones/VisualStudio/Python/MachineLearning/AireNuevoLeon/Prediccion/O3Forecasting.ipynb#ch0000010?line=15'>16</a>\u001b[0m     torch\u001b[39m.\u001b[39mnn\u001b[39m.\u001b[39mutils\u001b[39m.\u001b[39mclip_grad_norm_(Model\u001b[39m.\u001b[39mparameters(), clip)\n\u001b[0;32m     <a href='vscode-notebook-cell:/c%3A/Users/Felipe%20de%20Jesus/OneDrive/Documentos/Programaciones/VisualStudio/Python/MachineLearning/AireNuevoLeon/Prediccion/O3Forecasting.ipynb#ch0000010?line=16'>17</a>\u001b[0m     \u001b[39mreturn\u001b[39;00m loss\n\u001b[1;32m---> <a href='vscode-notebook-cell:/c%3A/Users/Felipe%20de%20Jesus/OneDrive/Documentos/Programaciones/VisualStudio/Python/MachineLearning/AireNuevoLeon/Prediccion/O3Forecasting.ipynb#ch0000010?line=17'>18</a>\u001b[0m loss \u001b[39m=\u001b[39m optimizer\u001b[39m.\u001b[39;49mstep(closure)\n\u001b[0;32m     <a href='vscode-notebook-cell:/c%3A/Users/Felipe%20de%20Jesus/OneDrive/Documentos/Programaciones/VisualStudio/Python/MachineLearning/AireNuevoLeon/Prediccion/O3Forecasting.ipynb#ch0000010?line=18'>19</a>\u001b[0m \u001b[39mprint\u001b[39m (loss\u001b[39m.\u001b[39mitem())\n\u001b[0;32m     <a href='vscode-notebook-cell:/c%3A/Users/Felipe%20de%20Jesus/OneDrive/Documentos/Programaciones/VisualStudio/Python/MachineLearning/AireNuevoLeon/Prediccion/O3Forecasting.ipynb#ch0000010?line=19'>20</a>\u001b[0m \u001b[39mif\u001b[39;00m j \u001b[39m/\u001b[39m batch_size \u001b[39m%\u001b[39m \u001b[39m5\u001b[39m \u001b[39m==\u001b[39m \u001b[39m0\u001b[39m:\n",
      "File \u001b[1;32mc:\\Users\\Felipe de Jesus\\miniconda3\\envs\\FLearn\\lib\\site-packages\\torch\\optim\\lr_scheduler.py:65\u001b[0m, in \u001b[0;36m_LRScheduler.__init__.<locals>.with_counter.<locals>.wrapper\u001b[1;34m(*args, **kwargs)\u001b[0m\n\u001b[0;32m     63\u001b[0m instance\u001b[39m.\u001b[39m_step_count \u001b[39m+\u001b[39m\u001b[39m=\u001b[39m \u001b[39m1\u001b[39m\n\u001b[0;32m     64\u001b[0m wrapped \u001b[39m=\u001b[39m func\u001b[39m.\u001b[39m\u001b[39m__get__\u001b[39m(instance, \u001b[39mcls\u001b[39m)\n\u001b[1;32m---> 65\u001b[0m \u001b[39mreturn\u001b[39;00m wrapped(\u001b[39m*\u001b[39margs, \u001b[39m*\u001b[39m\u001b[39m*\u001b[39mkwargs)\n",
      "File \u001b[1;32mc:\\Users\\Felipe de Jesus\\miniconda3\\envs\\FLearn\\lib\\site-packages\\torch\\optim\\optimizer.py:88\u001b[0m, in \u001b[0;36mOptimizer._hook_for_profile.<locals>.profile_hook_step.<locals>.wrapper\u001b[1;34m(*args, **kwargs)\u001b[0m\n\u001b[0;32m     86\u001b[0m profile_name \u001b[39m=\u001b[39m \u001b[39m\"\u001b[39m\u001b[39mOptimizer.step#\u001b[39m\u001b[39m{}\u001b[39;00m\u001b[39m.step\u001b[39m\u001b[39m\"\u001b[39m\u001b[39m.\u001b[39mformat(obj\u001b[39m.\u001b[39m\u001b[39m__class__\u001b[39m\u001b[39m.\u001b[39m\u001b[39m__name__\u001b[39m)\n\u001b[0;32m     87\u001b[0m \u001b[39mwith\u001b[39;00m torch\u001b[39m.\u001b[39mautograd\u001b[39m.\u001b[39mprofiler\u001b[39m.\u001b[39mrecord_function(profile_name):\n\u001b[1;32m---> 88\u001b[0m     \u001b[39mreturn\u001b[39;00m func(\u001b[39m*\u001b[39margs, \u001b[39m*\u001b[39m\u001b[39m*\u001b[39mkwargs)\n",
      "File \u001b[1;32mc:\\Users\\Felipe de Jesus\\miniconda3\\envs\\FLearn\\lib\\site-packages\\torch\\autograd\\grad_mode.py:27\u001b[0m, in \u001b[0;36m_DecoratorContextManager.__call__.<locals>.decorate_context\u001b[1;34m(*args, **kwargs)\u001b[0m\n\u001b[0;32m     24\u001b[0m \u001b[39m@functools\u001b[39m\u001b[39m.\u001b[39mwraps(func)\n\u001b[0;32m     25\u001b[0m \u001b[39mdef\u001b[39;00m \u001b[39mdecorate_context\u001b[39m(\u001b[39m*\u001b[39margs, \u001b[39m*\u001b[39m\u001b[39m*\u001b[39mkwargs):\n\u001b[0;32m     26\u001b[0m     \u001b[39mwith\u001b[39;00m \u001b[39mself\u001b[39m\u001b[39m.\u001b[39mclone():\n\u001b[1;32m---> 27\u001b[0m         \u001b[39mreturn\u001b[39;00m func(\u001b[39m*\u001b[39margs, \u001b[39m*\u001b[39m\u001b[39m*\u001b[39mkwargs)\n",
      "File \u001b[1;32mc:\\Users\\Felipe de Jesus\\miniconda3\\envs\\FLearn\\lib\\site-packages\\torch\\optim\\lbfgs.py:437\u001b[0m, in \u001b[0;36mLBFGS.step\u001b[1;34m(self, closure)\u001b[0m\n\u001b[0;32m    432\u001b[0m \u001b[39mif\u001b[39;00m n_iter \u001b[39m!=\u001b[39m max_iter:\n\u001b[0;32m    433\u001b[0m     \u001b[39m# re-evaluate function only if not in last iteration\u001b[39;00m\n\u001b[0;32m    434\u001b[0m     \u001b[39m# the reason we do this: in a stochastic setting,\u001b[39;00m\n\u001b[0;32m    435\u001b[0m     \u001b[39m# no use to re-evaluate that function here\u001b[39;00m\n\u001b[0;32m    436\u001b[0m     \u001b[39mwith\u001b[39;00m torch\u001b[39m.\u001b[39menable_grad():\n\u001b[1;32m--> 437\u001b[0m         loss \u001b[39m=\u001b[39m \u001b[39mfloat\u001b[39m(closure())\n\u001b[0;32m    438\u001b[0m     flat_grad \u001b[39m=\u001b[39m \u001b[39mself\u001b[39m\u001b[39m.\u001b[39m_gather_flat_grad()\n\u001b[0;32m    439\u001b[0m     opt_cond \u001b[39m=\u001b[39m flat_grad\u001b[39m.\u001b[39mabs()\u001b[39m.\u001b[39mmax() \u001b[39m<\u001b[39m\u001b[39m=\u001b[39m tolerance_grad\n",
      "File \u001b[1;32mc:\\Users\\Felipe de Jesus\\miniconda3\\envs\\FLearn\\lib\\site-packages\\torch\\autograd\\grad_mode.py:27\u001b[0m, in \u001b[0;36m_DecoratorContextManager.__call__.<locals>.decorate_context\u001b[1;34m(*args, **kwargs)\u001b[0m\n\u001b[0;32m     24\u001b[0m \u001b[39m@functools\u001b[39m\u001b[39m.\u001b[39mwraps(func)\n\u001b[0;32m     25\u001b[0m \u001b[39mdef\u001b[39;00m \u001b[39mdecorate_context\u001b[39m(\u001b[39m*\u001b[39margs, \u001b[39m*\u001b[39m\u001b[39m*\u001b[39mkwargs):\n\u001b[0;32m     26\u001b[0m     \u001b[39mwith\u001b[39;00m \u001b[39mself\u001b[39m\u001b[39m.\u001b[39mclone():\n\u001b[1;32m---> 27\u001b[0m         \u001b[39mreturn\u001b[39;00m func(\u001b[39m*\u001b[39margs, \u001b[39m*\u001b[39m\u001b[39m*\u001b[39mkwargs)\n",
      "\u001b[1;32mc:\\Users\\Felipe de Jesus\\OneDrive\\Documentos\\Programaciones\\VisualStudio\\Python\\MachineLearning\\AireNuevoLeon\\Prediccion\\O3Forecasting.ipynb Celda 11\u001b[0m in \u001b[0;36mclosure\u001b[1;34m()\u001b[0m\n\u001b[0;32m     <a href='vscode-notebook-cell:/c%3A/Users/Felipe%20de%20Jesus/OneDrive/Documentos/Programaciones/VisualStudio/Python/MachineLearning/AireNuevoLeon/Prediccion/O3Forecasting.ipynb#ch0000010?line=12'>13</a>\u001b[0m output \u001b[39m=\u001b[39m Model(X_train[j:j\u001b[39m+\u001b[39mbatch_size], future\u001b[39m=\u001b[39mfuture)\n\u001b[0;32m     <a href='vscode-notebook-cell:/c%3A/Users/Felipe%20de%20Jesus/OneDrive/Documentos/Programaciones/VisualStudio/Python/MachineLearning/AireNuevoLeon/Prediccion/O3Forecasting.ipynb#ch0000010?line=13'>14</a>\u001b[0m loss \u001b[39m=\u001b[39m criterion(output, y_train[j:j\u001b[39m+\u001b[39mbatch_size\u001b[39m+\u001b[39mfuture])\n\u001b[1;32m---> <a href='vscode-notebook-cell:/c%3A/Users/Felipe%20de%20Jesus/OneDrive/Documentos/Programaciones/VisualStudio/Python/MachineLearning/AireNuevoLeon/Prediccion/O3Forecasting.ipynb#ch0000010?line=14'>15</a>\u001b[0m loss\u001b[39m.\u001b[39;49mbackward()\n\u001b[0;32m     <a href='vscode-notebook-cell:/c%3A/Users/Felipe%20de%20Jesus/OneDrive/Documentos/Programaciones/VisualStudio/Python/MachineLearning/AireNuevoLeon/Prediccion/O3Forecasting.ipynb#ch0000010?line=15'>16</a>\u001b[0m torch\u001b[39m.\u001b[39mnn\u001b[39m.\u001b[39mutils\u001b[39m.\u001b[39mclip_grad_norm_(Model\u001b[39m.\u001b[39mparameters(), clip)\n\u001b[0;32m     <a href='vscode-notebook-cell:/c%3A/Users/Felipe%20de%20Jesus/OneDrive/Documentos/Programaciones/VisualStudio/Python/MachineLearning/AireNuevoLeon/Prediccion/O3Forecasting.ipynb#ch0000010?line=16'>17</a>\u001b[0m \u001b[39mreturn\u001b[39;00m loss\n",
      "File \u001b[1;32mc:\\Users\\Felipe de Jesus\\miniconda3\\envs\\FLearn\\lib\\site-packages\\torch\\_tensor.py:363\u001b[0m, in \u001b[0;36mTensor.backward\u001b[1;34m(self, gradient, retain_graph, create_graph, inputs)\u001b[0m\n\u001b[0;32m    354\u001b[0m \u001b[39mif\u001b[39;00m has_torch_function_unary(\u001b[39mself\u001b[39m):\n\u001b[0;32m    355\u001b[0m     \u001b[39mreturn\u001b[39;00m handle_torch_function(\n\u001b[0;32m    356\u001b[0m         Tensor\u001b[39m.\u001b[39mbackward,\n\u001b[0;32m    357\u001b[0m         (\u001b[39mself\u001b[39m,),\n\u001b[1;32m   (...)\u001b[0m\n\u001b[0;32m    361\u001b[0m         create_graph\u001b[39m=\u001b[39mcreate_graph,\n\u001b[0;32m    362\u001b[0m         inputs\u001b[39m=\u001b[39minputs)\n\u001b[1;32m--> 363\u001b[0m torch\u001b[39m.\u001b[39;49mautograd\u001b[39m.\u001b[39;49mbackward(\u001b[39mself\u001b[39;49m, gradient, retain_graph, create_graph, inputs\u001b[39m=\u001b[39;49minputs)\n",
      "File \u001b[1;32mc:\\Users\\Felipe de Jesus\\miniconda3\\envs\\FLearn\\lib\\site-packages\\torch\\autograd\\__init__.py:173\u001b[0m, in \u001b[0;36mbackward\u001b[1;34m(tensors, grad_tensors, retain_graph, create_graph, grad_variables, inputs)\u001b[0m\n\u001b[0;32m    168\u001b[0m     retain_graph \u001b[39m=\u001b[39m create_graph\n\u001b[0;32m    170\u001b[0m \u001b[39m# The reason we repeat same the comment below is that\u001b[39;00m\n\u001b[0;32m    171\u001b[0m \u001b[39m# some Python versions print out the first line of a multi-line function\u001b[39;00m\n\u001b[0;32m    172\u001b[0m \u001b[39m# calls in the traceback and some print out the last line\u001b[39;00m\n\u001b[1;32m--> 173\u001b[0m Variable\u001b[39m.\u001b[39;49m_execution_engine\u001b[39m.\u001b[39;49mrun_backward(  \u001b[39m# Calls into the C++ engine to run the backward pass\u001b[39;49;00m\n\u001b[0;32m    174\u001b[0m     tensors, grad_tensors_, retain_graph, create_graph, inputs,\n\u001b[0;32m    175\u001b[0m     allow_unreachable\u001b[39m=\u001b[39;49m\u001b[39mTrue\u001b[39;49;00m, accumulate_grad\u001b[39m=\u001b[39;49m\u001b[39mTrue\u001b[39;49;00m)\n",
      "\u001b[1;31mKeyboardInterrupt\u001b[0m: "
     ]
    }
   ],
   "source": [
    "criterion = nn.MSELoss()\n",
    "optimizer = torch.optim.LBFGS(Model.parameters(), lr=0.4)\n",
    "scheduler = torch.optim.lr_scheduler.StepLR(optimizer, step_size=1, gamma=0.8)\n",
    "epochs = 100\n",
    "batch_size = 300\n",
    "future = 200\n",
    "clip = 0.5\n",
    "for i in range(epochs):\n",
    "    for j in tqdm(range(0, X_train.size(0), batch_size)):\n",
    "        if j + batch_size+future < X_train.size(0):\n",
    "            def closure():\n",
    "                optimizer.zero_grad()\n",
    "                output = Model(X_train[j:j+batch_size], future=future)\n",
    "                loss = criterion(output, y_train[j:j+batch_size+future])\n",
    "                loss.backward()\n",
    "                torch.nn.utils.clip_grad_norm_(Model.parameters(), clip)\n",
    "                return loss\n",
    "            loss = optimizer.step(closure)\n",
    "            print (loss.item())\n",
    "            if j / batch_size % 5 == 0:\n",
    "                plot_function(future = 120)\n",
    "                print ('Epoch: {}, Batch: {}, Loss: {}'.format(i, j, loss.item()))\n",
    "                scheduler.step()\n",
    "                print ('Learning rate: {}'.format(scheduler.get_lr()))\n",
    "                print ('\\n')\n",
    "    if i % 1 == 0:\n",
    "        plot_function(future = 120)\n",
    "        print('Epoch: ', i, ' Loss: ', loss.item())\n",
    "        scheduler.step()"
   ]
  },
  {
   "cell_type": "code",
   "execution_count": 68,
   "metadata": {},
   "outputs": [],
   "source": [
    "# save the model\n",
    "torch.save(Model.state_dict(), 'Model/model_O3_forecasting.pt')"
   ]
  },
  {
   "cell_type": "code",
   "execution_count": 12,
   "metadata": {},
   "outputs": [
    {
     "data": {
      "text/plain": [
       "<All keys matched successfully>"
      ]
     },
     "execution_count": 12,
     "metadata": {},
     "output_type": "execute_result"
    }
   ],
   "source": [
    "# load the model\n",
    "Model.load_state_dict(torch.load('Model/model_O3_forecasting.pt'))"
   ]
  },
  {
   "cell_type": "code",
   "execution_count": 20,
   "metadata": {},
   "outputs": [
    {
     "data": {
      "image/png": "[encoded data removed]",
      "text/plain": [
       "<Figure size 432x288 with 1 Axes>"
      ]
     },
     "metadata": {
      "needs_background": "light"
     },
     "output_type": "display_data"
    }
   ],
   "source": [
    "def plot_function_on(future = 10):\n",
    "    with torch.no_grad():\n",
    "        y_pred = Model(X_test[:future], future=future)\n",
    "        y_pred_print = y_pred.cpu().detach().numpy()[:,0]\n",
    "        y_test_print = y_test.cpu().detach().numpy()[:,0]\n",
    "    # visualizar el modelo \n",
    "    #plt.plot(y_test_print[:future], label='Real')\n",
    "    #plt.plot(y_pred_print[future:future*2], label='Predicted')\n",
    "    plt.plot(np.arange(future*2), y_test_print[:future*2], label='Real')\n",
    "    plt.plot(np.arange(future-10,future*2), y_pred_print[future-10:future*2], label='Predicted')\n",
    "    ## añadir una linea vertical\n",
    "    plt.axvline(x=future, color='r', linestyle='--', label='Future')\n",
    "    plt.legend()\n",
    "    plt.show()\n",
    "plot_function_on(future=120)"
   ]
  },
  {
   "cell_type": "code",
   "execution_count": null,
   "metadata": {},
   "outputs": [],
   "source": []
  }
 ],
 "metadata": {
  "kernelspec": {
   "display_name": "Python 3.9.11 ('FLearn')",
   "language": "python",
   "name": "python3"
  },
  "language_info": {
   "codemirror_mode": {
    "name": "ipython",
    "version": 3
   },
   "file_extension": ".py",
   "mimetype": "text/x-python",
   "name": "python",
   "nbconvert_exporter": "python",
   "pygments_lexer": "ipython3",
   "version": "3.9.11"
  },
  "orig_nbformat": 4,
  "vscode": {
   "interpreter": {
    "hash": "6c3c121565a86343e8ffc95d5a1b21cfd7b3e049d1aad979cf99950f4a31fc63"
   }
  }
 },
 "nbformat": 4,
 "nbformat_minor": 2
}
