{
 "cells": [
  {
   "cell_type": "code",
   "execution_count": 1,
   "metadata": {},
   "outputs": [
    {
     "name": "stderr",
     "output_type": "stream",
     "text": [
      "c:\\Users\\Felipe de Jesus\\miniconda3\\envs\\MLearn\\lib\\site-packages\\tqdm\\auto.py:22: TqdmWarning: IProgress not found. Please update jupyter and ipywidgets. See https://ipywidgets.readthedocs.io/en/stable/user_install.html\n",
      "  from .autonotebook import tqdm as notebook_tqdm\n"
     ]
    }
   ],
   "source": [
    "import pandas as pd\n",
    "import numpy as np\n",
    "import torch\n",
    "import torch.nn as nn\n",
    "import torch.nn.functional as F\n",
    "import torch.optim as optim\n",
    "from torch import Tensor\n",
    "from torch.utils.data import Dataset, DataLoader\n",
    "import math\n",
    "# importar future\n",
    "from __future__ import print_function"
   ]
  },
  {
   "cell_type": "code",
   "execution_count": 2,
   "metadata": {},
   "outputs": [],
   "source": [
    "class WeatherData(Dataset):\n",
    "    def __init__(self,future=0):\n",
    "        self.data = pd.read_csv('Data/raw_data_sinaica.csv')\n",
    "        #self.data = self.data.dropna()\n",
    "        # rellenar los datos con promedios moviles o interpolaciones\n",
    "        self.data = self.data.interpolate()\n",
    "        self.data['Time'] = pd.to_datetime(self.data['Time'])\n",
    "        self.data = self.data.sort_values(by=['Estación','Time'])\n",
    "        self.data = self.data.set_index('Time')\n",
    "        self.Municipios = self.data['Estación'].unique()\n",
    "        self.Mundicc = {}\n",
    "        # hacer un diccionario para el nombre de los municipios\n",
    "        for i in range(len(self.Municipios)):\n",
    "            self.Mundicc[self.Municipios[i]] = i\n",
    "        # Aplicar el diccionario al dataframe\n",
    "        self.data['Estación'] = self.data['Estación'].map(self.Mundicc)\n",
    "        for col in self.data.columns:\n",
    "            self.data = self.data[self.data[col]>=0]\n",
    "        # numpy array\n",
    "        # agarrar solo datos de la estacion 0\n",
    "        self.data = self.data[self.data['Estación'] == 0]\n",
    "        # quitar columna estacíon\n",
    "        self.data = self.data.drop(columns=['Estación'])\n",
    "        self.columns = self.data.columns\n",
    "        # standarizar los datos\n",
    "        self.mean = self.data.mean()\n",
    "        self.std = self.data.std()\n",
    "        self.data = (self.data - self.mean)/self.std\n",
    "        # correjir los NaN\n",
    "        self.data = self.data.fillna(0)\n",
    "        self.data = self.data.to_numpy()\n",
    "        # convertir los numeros menores a 0 en \n",
    "        self.x = torch.tensor(self.data[:-1], dtype=torch.float)\n",
    "        self.y = torch.tensor(self.data[1:], dtype=torch.float)\n",
    "        self.set_future(future)\n",
    "    def set_future(self, future):\n",
    "        self.future = future\n",
    "    def __len__(self):\n",
    "        return len(self.data)-self.future-1\n",
    "\n",
    "    def __getitem__(self, idx):\n",
    "        return self.x[idx].unsqueeze(0),self.y[idx].unsqueeze(0)\n",
    "    def get_batch(self, batch_size, future = 0):\n",
    "        idx = np.random.randint(0, len(self.data)-future-1, batch_size)\n",
    "        return self.x[idx],self.y[idx+future]"
   ]
  },
  {
   "cell_type": "code",
   "execution_count": 3,
   "metadata": {},
   "outputs": [],
   "source": [
    "def LinearCell(num_input, num_hidden, Dropout=0.1):\n",
    "    Seq = nn.Sequential(\n",
    "        nn.Linear(num_input,num_hidden),\n",
    "        nn.LeakyReLU(0.8),\n",
    "        nn.Dropout(Dropout)\n",
    "    )\n",
    "    return Seq"
   ]
  },
  {
   "cell_type": "code",
   "execution_count": 4,
   "metadata": {},
   "outputs": [],
   "source": [
    "class PositionalEncoding(nn.Module):\n",
    "    def __init__(self, d_model: int, dropout: float = 0.1, max_len: int = 5000):\n",
    "        super().__init__()\n",
    "        self.dropout = nn.Dropout(p=dropout)\n",
    "\n",
    "        position = torch.arange(max_len).unsqueeze(1)\n",
    "        div_term = torch.exp(torch.arange(0, d_model, 2) * (-math.log(10000.0) / d_model))\n",
    "        pe = torch.zeros(max_len, 1, d_model)\n",
    "        pe[:, 0, 0::2] = torch.sin(position * div_term)\n",
    "        pe[:, 0, 1::2] = torch.cos(position * div_term)\n",
    "        self.register_buffer('pe', pe)\n",
    "\n",
    "    def forward(self, x: Tensor) -> Tensor:\n",
    "        \"\"\"\n",
    "        Args:\n",
    "            x: Tensor, shape [seq_len, batch_size, embedding_dim]\n",
    "        \"\"\"\n",
    "        x = x + self.pe[:x.size(0)]\n",
    "        return self.dropout(x)"
   ]
  },
  {
   "cell_type": "code",
   "execution_count": 5,
   "metadata": {},
   "outputs": [],
   "source": [
    "\n",
    "class Net(nn.Module):\n",
    "    def __init__(self,input_size,hidden_size,output_size,num_layers, num_linear =1):\n",
    "        super(Net, self).__init__()\n",
    "        self.input_size = input_size\n",
    "        self.hidden_size = hidden_size\n",
    "        self.output_size = output_size\n",
    "        self.num_layers = num_layers\n",
    "        self.lstm1 = nn.LSTM(input_size, hidden_size, num_layers)\n",
    "        LinearSeq = []\n",
    "        for i in range(num_linear):\n",
    "            LinearSeq.append(LinearCell(hidden_size,hidden_size))\n",
    "        self.LinearSeq = nn.Sequential(*LinearSeq)\n",
    "        self.L1 = LinearCell(hidden_size,hidden_size)\n",
    "        self.L2 = LinearCell(hidden_size,hidden_size)\n",
    "        self.LOut = LinearCell(hidden_size,output_size)\n",
    "        self.init_weights()\n",
    "    def init_weights(self):\n",
    "        for m in self.modules():\n",
    "            if isinstance(m, nn.Linear):\n",
    "                nn.init.xavier_normal_(m.weight)\n",
    "                nn.init.normal_(m.bias)\n",
    "    def forward(self,x,future=0):\n",
    "        # outputs\n",
    "        outputs = []\n",
    "        h_t = torch.zeros(self.num_layers,1,self.hidden_size)\n",
    "        c_t = torch.zeros(self.num_layers,1,self.hidden_size)\n",
    "        \n",
    "        for input_t in x.split(1,dim=0):\n",
    "            out, (h_t,c_t) = self.lstm1(input_t,(h_t,c_t))\n",
    "            #print (out.shape)\n",
    "            out = self.LinearSeq(out)\n",
    "            l1 = self.L1(out)\n",
    "            l2 = self.L2(l1)\n",
    "            output = self.LOut(l2)\n",
    "            outputs.append(output)\n",
    "        \n",
    "        for i in range(future):\n",
    "            out, (h_t,c_t) = self.lstm1(output, (h_t,c_t))\n",
    "            out = self.LinearSeq(out)\n",
    "            l1 = self.L1 (out)\n",
    "            l2 = self.L2(l1)\n",
    "            output = self.LOut(l2)\n",
    "            outputs.append(output)\n",
    "        outputs = torch.cat(outputs,dim=0)\n",
    "        return outputs"
   ]
  },
  {
   "cell_type": "code",
   "execution_count": 6,
   "metadata": {},
   "outputs": [],
   "source": [
    "# pararmetros del entrenamiento\n",
    "learning_rate = .01\n",
    "num_epochs = 1000\n",
    "batch_size = 180\n",
    "clip = .5\n",
    "future = 60\n",
    "Prediction_weight = 1.2\n",
    "dataset = WeatherData()\n",
    "Batch_loader = DataLoader(dataset, batch_size=batch_size, shuffle=False)"
   ]
  },
  {
   "cell_type": "code",
   "execution_count": 15,
   "metadata": {},
   "outputs": [],
   "source": [
    "input_size = dataset.columns.__len__()\n",
    "max_lenght = 48\n",
    "argument = {\n",
    "    'input_size' : input_size,\n",
    "    'hidden_size' : 18,\n",
    "    'output_size' : input_size,\n",
    "    'num_layers' : 3,\n",
    "    'num_linear' : 2\n",
    "}\n",
    "Predictor = Net(**argument)\n",
    "criterion = nn.MSELoss()\n",
    "optimizer = torch.optim.SGD(Predictor.parameters(), lr=learning_rate)"
   ]
  },
  {
   "cell_type": "code",
   "execution_count": 8,
   "metadata": {},
   "outputs": [
    {
     "data": {
      "text/plain": [
       "<All keys matched successfully>"
      ]
     },
     "execution_count": 8,
     "metadata": {},
     "output_type": "execute_result"
    }
   ],
   "source": [
    "# cargar los pesos\n",
    "Predictor.load_state_dict(torch.load('Model/ModelApodaca3.pt'))"
   ]
  },
  {
   "cell_type": "code",
   "execution_count": 9,
   "metadata": {},
   "outputs": [
    {
     "name": "stdout",
     "output_type": "stream",
     "text": [
      "torch.Size([1, 1, 15])\n"
     ]
    }
   ],
   "source": [
    "sample_t = torch.zeros(1,1,input_size)\n",
    "output = Predictor(sample_t)\n",
    "print (output.shape)"
   ]
  },
  {
   "cell_type": "code",
   "execution_count": 10,
   "metadata": {},
   "outputs": [],
   "source": [
    "from tqdm  import tqdm\n",
    "import matplotlib.pyplot as plt\n",
    "\n",
    "def test(Predictor,test_data,size,future=60):\n",
    "    iterat = DataLoader(test_data, batch_size=size, shuffle=False)\n",
    "    (x,y) = next(iter(iterat))\n",
    "    out = Predictor(x[:-future],future=future)\n",
    "    Y_proyectado = out.detach().numpy()[:,0,0]\n",
    "    Y_real = y.detach().numpy()[:,0,0]\n",
    "    plt.plot(Y_real,label='Real')\n",
    "    plt.plot(Y_proyectado,label='Prediccion')\n",
    "    plt.axvline(x=size-future, color='black', linestyle='--')\n",
    "    plt.legend()\n",
    "    plt.show()"
   ]
  },
  {
   "cell_type": "code",
   "execution_count": 11,
   "metadata": {},
   "outputs": [],
   "source": [
    "#min_loss = 0.24296\n",
    "min_loss = 0.24296"
   ]
  },
  {
   "cell_type": "code",
   "execution_count": 12,
   "metadata": {},
   "outputs": [
    {
     "data": {
      "text/plain": [
       "<All keys matched successfully>"
      ]
     },
     "execution_count": 12,
     "metadata": {},
     "output_type": "execute_result"
    }
   ],
   "source": [
    "# load checkpoint\n",
    "Predictor.load_state_dict(torch.load('Model/Checkpoint.pt'))"
   ]
  },
  {
   "cell_type": "code",
   "execution_count": 1,
   "metadata": {},
   "outputs": [
    {
     "ename": "NameError",
     "evalue": "name 'tqdm' is not defined",
     "output_type": "error",
     "traceback": [
      "\u001b[1;31m---------------------------------------------------------------------------\u001b[0m",
      "\u001b[1;31mNameError\u001b[0m                                 Traceback (most recent call last)",
      "\u001b[1;32mc:\\Users\\Felipe de Jesus\\OneDrive\\Documentos\\Programaciones\\VisualStudio\\Python\\MachineLearning\\AireNuevoLeon\\Prediccion\\Dataset.ipynb Celda 13\u001b[0m in \u001b[0;36m<cell line: 1>\u001b[1;34m()\u001b[0m\n\u001b[1;32m----> <a href='vscode-notebook-cell:/c%3A/Users/Felipe%20de%20Jesus/OneDrive/Documentos/Programaciones/VisualStudio/Python/MachineLearning/AireNuevoLeon/Prediccion/Dataset.ipynb#X15sZmlsZQ%3D%3D?line=0'>1</a>\u001b[0m progress \u001b[39m=\u001b[39m tqdm(\u001b[39mrange\u001b[39m(num_epochs))\n\u001b[0;32m      <a href='vscode-notebook-cell:/c%3A/Users/Felipe%20de%20Jesus/OneDrive/Documentos/Programaciones/VisualStudio/Python/MachineLearning/AireNuevoLeon/Prediccion/Dataset.ipynb#X15sZmlsZQ%3D%3D?line=1'>2</a>\u001b[0m outputs \u001b[39m=\u001b[39m torch\u001b[39m.\u001b[39mzeros(\u001b[39m1\u001b[39m,max_lenght,input_size)\n\u001b[0;32m      <a href='vscode-notebook-cell:/c%3A/Users/Felipe%20de%20Jesus/OneDrive/Documentos/Programaciones/VisualStudio/Python/MachineLearning/AireNuevoLeon/Prediccion/Dataset.ipynb#X15sZmlsZQ%3D%3D?line=2'>3</a>\u001b[0m \u001b[39mfor\u001b[39;00m epoch \u001b[39min\u001b[39;00m progress:\n",
      "\u001b[1;31mNameError\u001b[0m: name 'tqdm' is not defined"
     ]
    }
   ],
   "source": [
    "progress = tqdm(range(num_epochs))\n",
    "outputs = torch.zeros(1,max_lenght,input_size)\n",
    "for epoch in progress:\n",
    "    mean_loss = 0.0\n",
    "    for _,(x,y) in enumerate(Batch_loader):\n",
    "        if x.shape[0] < batch_size:\n",
    "            continue\n",
    "        #print (y.shape)\n",
    "        out = Predictor(x[:-future],future=future)\n",
    "        teached_out = out[:-future]\n",
    "        predicted_out = out[-future:]\n",
    "        teached_loss = criterion(teached_out,y[:-future])\n",
    "        predicted_loss = criterion(predicted_out,y[-future:])\n",
    "        loss = ((teached_loss*0.4) + (predicted_loss * 0.6)) / 2\n",
    "        if torch.cuda.is_available():\n",
    "            loss = loss.cuda()\n",
    "        mean_loss += loss\n",
    "    mean_loss = mean_loss / len(Batch_loader)\n",
    "    optimizer.zero_grad()\n",
    "    mean_loss.backward()\n",
    "    #torch.nn.utils.clip_grad_norm_(Predictor.parameters(), clip)\n",
    "    optimizer.step()\n",
    "    progress.set_description(\"Epoch: {} Loss: {:.5f}\".format(epoch,mean_loss))\n",
    "    if mean_loss.item() < min_loss and mean_loss.item() > 0:\n",
    "        min_loss = mean_loss.item()\n",
    "        # save checkpoint\n",
    "        torch.save(Predictor.state_dict(), 'Model/Checkpoint.pt')\n",
    "\n",
    "    if epoch % 5 == 0:\n",
    "        test(Predictor,dataset,200,future=60)"
   ]
  },
  {
   "cell_type": "code",
   "execution_count": 79,
   "metadata": {},
   "outputs": [
    {
     "name": "stdout",
     "output_type": "stream",
     "text": [
      "Minimo Loss:  0.23191717267036438\n"
     ]
    }
   ],
   "source": [
    "print ('Minimo Loss: ',min_loss)"
   ]
  },
  {
   "cell_type": "code",
   "execution_count": 92,
   "metadata": {},
   "outputs": [],
   "source": [
    "# guardar el modelo\n",
    "torch.save(Predictor.state_dict(), 'Model/modelApodaca4.2.pt')"
   ]
  },
  {
   "cell_type": "code",
   "execution_count": 96,
   "metadata": {},
   "outputs": [
    {
     "data": {
      "image/png": "[encoded data removed]",
      "text/plain": [
       "<Figure size 432x288 with 1 Axes>"
      ]
     },
     "metadata": {
      "needs_background": "light"
     },
     "output_type": "display_data"
    }
   ],
   "source": [
    "context = 300 \n",
    "pred = 160\n",
    "test(Predictor,dataset,context+pred,future=pred)"
   ]
  },
  {
   "cell_type": "code",
   "execution_count": 135,
   "metadata": {},
   "outputs": [],
   "source": []
  },
  {
   "cell_type": "code",
   "execution_count": 35,
   "metadata": {},
   "outputs": [
    {
     "name": "stdout",
     "output_type": "stream",
     "text": [
      "[7, 8, 9]\n"
     ]
    }
   ],
   "source": [
    "lista = list(range(0,10))\n",
    "print (lista[-3:])"
   ]
  },
  {
   "cell_type": "code",
   "execution_count": null,
   "metadata": {},
   "outputs": [],
   "source": []
  }
 ],
 "metadata": {
  "kernelspec": {
   "display_name": "Python 3.10.4 ('MLearn')",
   "language": "python",
   "name": "python3"
  },
  "language_info": {
   "codemirror_mode": {
    "name": "ipython",
    "version": 3
   },
   "file_extension": ".py",
   "mimetype": "text/x-python",
   "name": "python",
   "nbconvert_exporter": "python",
   "pygments_lexer": "ipython3",
   "version": "3.10.4"
  },
  "orig_nbformat": 4,
  "vscode": {
   "interpreter": {
    "hash": "9178488e902897ccede7ccf72145ea4bf1db4863c1b153f9ec9b532ffe6212a3"
   }
  }
 },
 "nbformat": 4,
 "nbformat_minor": 2
}
