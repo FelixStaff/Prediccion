{
 "cells": [
  {
   "cell_type": "code",
   "execution_count": 1,
   "metadata": {},
   "outputs": [],
   "source": [
    "import mysql.connector\n",
    "import pandas as pd"
   ]
  },
  {
   "cell_type": "code",
   "execution_count": 2,
   "metadata": {},
   "outputs": [
    {
     "name": "stdout",
     "output_type": "stream",
     "text": [
      "Conectado a la base de datos\n",
      "('PurpleAirData',)\n",
      "('Registros',)\n",
      "('ResumenPurpleAir',)\n",
      "('ResumenSensor',)\n",
      "('Sensores',)\n"
     ]
    }
   ],
   "source": [
    "#USUARIO=reader_user\n",
    "#PASSWORD=kZ\"\\Ts;Qqf'.k7Pf\n",
    "#PORT=3306\n",
    "#HOST=82.180.132.126\n",
    "#DB=comiteec_aire\n",
    "mydb = mysql.connector.connect(\n",
    "    host=\"82.180.132.126\",\n",
    "    user=\"reader_user\",\n",
    "    passwd=\"kZ\\\"\\Ts;Qqf'.k7Pf\",\n",
    "    database=\"comiteec_aire\"\n",
    ")\n",
    "print (\"Conectado a la base de datos\")\n",
    "# view tables\n",
    "cursor = mydb.cursor()\n",
    "cursor.execute(\"SHOW TABLES\")\n",
    "for x in cursor:\n",
    "    print(x)"
   ]
  },
  {
   "cell_type": "code",
   "execution_count": 3,
   "metadata": {},
   "outputs": [
    {
     "name": "stdout",
     "output_type": "stream",
     "text": [
      "Index(['Registros_id', 'Dia', 'PM10', 'PM25', 'O3', 'CO', 'NO1', 'NO2', 'NOx',\n",
      "       'SO2', 'Sensor_id', 'TEMPERATURA', 'LLUVIA', 'PRESIONATM', 'HUMEDAD',\n",
      "       'RS', 'VIENTOVEL'],\n",
      "      dtype='object')\n",
      "Index(['Log_id', 'Dia', 'PM25_A', 'PM25_B', 'PM25_Corregido',\n",
      "       'Humedad_Relativa', 'Temperatura', 'Presion', 'Tipo_null', 'Sensor_id',\n",
      "       'PM25_Promedio'],\n",
      "      dtype='object')\n"
     ]
    }
   ],
   "source": [
    "# Extraer la tabla de NL y volverlos un dataframe\n",
    "cursor.execute(\"SELECT * FROM Registros\")\n",
    "dfNL = pd.DataFrame(cursor.fetchall())\n",
    "dfNL.columns = cursor.column_names\n",
    "print(dfNL.columns)\n",
    "# Extraer la tabla de PurpleAir y volverlos un dataframe\n",
    "cursor.execute(\"SELECT * FROM PurpleAirData\")\n",
    "dfPA = pd.DataFrame(cursor.fetchall())\n",
    "dfPA.columns = cursor.column_names\n",
    "print(dfPA.columns)"
   ]
  },
  {
   "cell_type": "code",
   "execution_count": null,
   "metadata": {},
   "outputs": [],
   "source": []
  },
  {
   "cell_type": "code",
   "execution_count": 39,
   "metadata": {},
   "outputs": [
    {
     "name": "stdout",
     "output_type": "stream",
     "text": [
      "(35614, 17)\n",
      "(6284, 11)\n"
     ]
    }
   ],
   "source": [
    "# Agarrar los datos de PurpleAir con el con el sensor ANL11\n",
    "dfNLM = dfNL[dfNL['Sensor_id'] == 'ANL11']\n",
    "print (dfNLM.shape)\n",
    "# Agarrar los datos de PurpleAir con el con el sensor P39355\n",
    "dfPAM = dfPA[dfPA['Sensor_id'] == 'P39355']\n",
    "print (dfPAM.shape)"
   ]
  },
  {
   "cell_type": "code",
   "execution_count": 45,
   "metadata": {},
   "outputs": [
    {
     "ename": "KeyboardInterrupt",
     "evalue": "",
     "output_type": "error",
     "traceback": [
      "\u001b[1;31m---------------------------------------------------------------------------\u001b[0m",
      "\u001b[1;31mKeyboardInterrupt\u001b[0m                         Traceback (most recent call last)",
      "\u001b[1;32mc:\\Users\\Felipe de Jesus\\OneDrive\\Documentos\\Programaciones\\VisualStudio\\Python\\MachineLearning\\AireNuevoLeon\\Prediccion\\PMCorrector.ipynb Celda 6\u001b[0m in \u001b[0;36m<cell line: 4>\u001b[1;34m()\u001b[0m\n\u001b[0;32m      <a href='vscode-notebook-cell:/c%3A/Users/Felipe%20de%20Jesus/OneDrive/Documentos/Programaciones/VisualStudio/Python/MachineLearning/AireNuevoLeon/Prediccion/PMCorrector.ipynb#X10sZmlsZQ%3D%3D?line=3'>4</a>\u001b[0m \u001b[39mfor\u001b[39;00m i \u001b[39min\u001b[39;00m \u001b[39mrange\u001b[39m(dfNLM\u001b[39m.\u001b[39mshape[\u001b[39m0\u001b[39m]):\n\u001b[0;32m      <a href='vscode-notebook-cell:/c%3A/Users/Felipe%20de%20Jesus/OneDrive/Documentos/Programaciones/VisualStudio/Python/MachineLearning/AireNuevoLeon/Prediccion/PMCorrector.ipynb#X10sZmlsZQ%3D%3D?line=4'>5</a>\u001b[0m     \u001b[39mfor\u001b[39;00m j \u001b[39min\u001b[39;00m \u001b[39mrange\u001b[39m(dfPAM\u001b[39m.\u001b[39mshape[\u001b[39m0\u001b[39m]):\n\u001b[1;32m----> <a href='vscode-notebook-cell:/c%3A/Users/Felipe%20de%20Jesus/OneDrive/Documentos/Programaciones/VisualStudio/Python/MachineLearning/AireNuevoLeon/Prediccion/PMCorrector.ipynb#X10sZmlsZQ%3D%3D?line=5'>6</a>\u001b[0m         \u001b[39mif\u001b[39;00m dfNLM\u001b[39m.\u001b[39;49miloc[i][\u001b[39m'\u001b[39m\u001b[39mDia\u001b[39m\u001b[39m'\u001b[39m] \u001b[39m==\u001b[39m dfPAM\u001b[39m.\u001b[39miloc[j][\u001b[39m'\u001b[39m\u001b[39mDia\u001b[39m\u001b[39m'\u001b[39m]:\n\u001b[0;32m      <a href='vscode-notebook-cell:/c%3A/Users/Felipe%20de%20Jesus/OneDrive/Documentos/Programaciones/VisualStudio/Python/MachineLearning/AireNuevoLeon/Prediccion/PMCorrector.ipynb#X10sZmlsZQ%3D%3D?line=6'>7</a>\u001b[0m             Data\u001b[39m.\u001b[39mappend([dfNLM\u001b[39m.\u001b[39miloc[i][\u001b[39m'\u001b[39m\u001b[39mDia\u001b[39m\u001b[39m'\u001b[39m], dfNLM\u001b[39m.\u001b[39miloc[i][\u001b[39m'\u001b[39m\u001b[39mPM2.5\u001b[39m\u001b[39m'\u001b[39m], dfPAM\u001b[39m.\u001b[39miloc[j][\u001b[39m'\u001b[39m\u001b[39mPM2.5\u001b[39m\u001b[39m'\u001b[39m]])\n\u001b[0;32m      <a href='vscode-notebook-cell:/c%3A/Users/Felipe%20de%20Jesus/OneDrive/Documentos/Programaciones/VisualStudio/Python/MachineLearning/AireNuevoLeon/Prediccion/PMCorrector.ipynb#X10sZmlsZQ%3D%3D?line=7'>8</a>\u001b[0m             \u001b[39mprint\u001b[39m (\u001b[39m\"\u001b[39m\u001b[39mGuardado\u001b[39m\u001b[39m\"\u001b[39m)\n",
      "File \u001b[1;32mc:\\Users\\Felipe de Jesus\\miniconda3\\envs\\MLearn\\lib\\site-packages\\pandas\\core\\indexing.py:967\u001b[0m, in \u001b[0;36m_LocationIndexer.__getitem__\u001b[1;34m(self, key)\u001b[0m\n\u001b[0;32m    964\u001b[0m axis \u001b[39m=\u001b[39m \u001b[39mself\u001b[39m\u001b[39m.\u001b[39maxis \u001b[39mor\u001b[39;00m \u001b[39m0\u001b[39m\n\u001b[0;32m    966\u001b[0m maybe_callable \u001b[39m=\u001b[39m com\u001b[39m.\u001b[39mapply_if_callable(key, \u001b[39mself\u001b[39m\u001b[39m.\u001b[39mobj)\n\u001b[1;32m--> 967\u001b[0m \u001b[39mreturn\u001b[39;00m \u001b[39mself\u001b[39;49m\u001b[39m.\u001b[39;49m_getitem_axis(maybe_callable, axis\u001b[39m=\u001b[39;49maxis)\n",
      "File \u001b[1;32mc:\\Users\\Felipe de Jesus\\miniconda3\\envs\\MLearn\\lib\\site-packages\\pandas\\core\\indexing.py:1522\u001b[0m, in \u001b[0;36m_iLocIndexer._getitem_axis\u001b[1;34m(self, key, axis)\u001b[0m\n\u001b[0;32m   1519\u001b[0m \u001b[39m# validate the location\u001b[39;00m\n\u001b[0;32m   1520\u001b[0m \u001b[39mself\u001b[39m\u001b[39m.\u001b[39m_validate_integer(key, axis)\n\u001b[1;32m-> 1522\u001b[0m \u001b[39mreturn\u001b[39;00m \u001b[39mself\u001b[39;49m\u001b[39m.\u001b[39;49mobj\u001b[39m.\u001b[39;49m_ixs(key, axis\u001b[39m=\u001b[39;49maxis)\n",
      "File \u001b[1;32mc:\\Users\\Felipe de Jesus\\miniconda3\\envs\\MLearn\\lib\\site-packages\\pandas\\core\\frame.py:3428\u001b[0m, in \u001b[0;36mDataFrame._ixs\u001b[1;34m(self, i, axis)\u001b[0m\n\u001b[0;32m   3426\u001b[0m \u001b[39m# if we are a copy, mark as such\u001b[39;00m\n\u001b[0;32m   3427\u001b[0m copy \u001b[39m=\u001b[39m \u001b[39misinstance\u001b[39m(new_values, np\u001b[39m.\u001b[39mndarray) \u001b[39mand\u001b[39;00m new_values\u001b[39m.\u001b[39mbase \u001b[39mis\u001b[39;00m \u001b[39mNone\u001b[39;00m\n\u001b[1;32m-> 3428\u001b[0m result \u001b[39m=\u001b[39m \u001b[39mself\u001b[39;49m\u001b[39m.\u001b[39;49m_constructor_sliced(\n\u001b[0;32m   3429\u001b[0m     new_values,\n\u001b[0;32m   3430\u001b[0m     index\u001b[39m=\u001b[39;49m\u001b[39mself\u001b[39;49m\u001b[39m.\u001b[39;49mcolumns,\n\u001b[0;32m   3431\u001b[0m     name\u001b[39m=\u001b[39;49m\u001b[39mself\u001b[39;49m\u001b[39m.\u001b[39;49mindex[i],\n\u001b[0;32m   3432\u001b[0m     dtype\u001b[39m=\u001b[39;49mnew_values\u001b[39m.\u001b[39;49mdtype,\n\u001b[0;32m   3433\u001b[0m )\n\u001b[0;32m   3434\u001b[0m result\u001b[39m.\u001b[39m_set_is_copy(\u001b[39mself\u001b[39m, copy\u001b[39m=\u001b[39mcopy)\n\u001b[0;32m   3435\u001b[0m \u001b[39mreturn\u001b[39;00m result\n",
      "File \u001b[1;32mc:\\Users\\Felipe de Jesus\\miniconda3\\envs\\MLearn\\lib\\site-packages\\pandas\\core\\series.py:459\u001b[0m, in \u001b[0;36mSeries.__init__\u001b[1;34m(self, data, index, dtype, name, copy, fastpath)\u001b[0m\n\u001b[0;32m    456\u001b[0m         \u001b[39melif\u001b[39;00m manager \u001b[39m==\u001b[39m \u001b[39m\"\u001b[39m\u001b[39marray\u001b[39m\u001b[39m\"\u001b[39m:\n\u001b[0;32m    457\u001b[0m             data \u001b[39m=\u001b[39m SingleArrayManager\u001b[39m.\u001b[39mfrom_array(data, index)\n\u001b[1;32m--> 459\u001b[0m NDFrame\u001b[39m.\u001b[39;49m\u001b[39m__init__\u001b[39;49m(\u001b[39mself\u001b[39;49m, data)\n\u001b[0;32m    460\u001b[0m \u001b[39mself\u001b[39m\u001b[39m.\u001b[39mname \u001b[39m=\u001b[39m name\n\u001b[0;32m    461\u001b[0m \u001b[39mself\u001b[39m\u001b[39m.\u001b[39m_set_axis(\u001b[39m0\u001b[39m, index, fastpath\u001b[39m=\u001b[39m\u001b[39mTrue\u001b[39;00m)\n",
      "File \u001b[1;32mc:\\Users\\Felipe de Jesus\\miniconda3\\envs\\MLearn\\lib\\site-packages\\pandas\\core\\generic.py:255\u001b[0m, in \u001b[0;36mNDFrame.__init__\u001b[1;34m(self, data, copy, attrs)\u001b[0m\n\u001b[0;32m    253\u001b[0m     attrs \u001b[39m=\u001b[39m \u001b[39mdict\u001b[39m(attrs)\n\u001b[0;32m    254\u001b[0m \u001b[39mobject\u001b[39m\u001b[39m.\u001b[39m\u001b[39m__setattr__\u001b[39m(\u001b[39mself\u001b[39m, \u001b[39m\"\u001b[39m\u001b[39m_attrs\u001b[39m\u001b[39m\"\u001b[39m, attrs)\n\u001b[1;32m--> 255\u001b[0m \u001b[39mobject\u001b[39m\u001b[39m.\u001b[39m\u001b[39m__setattr__\u001b[39m(\u001b[39mself\u001b[39m, \u001b[39m\"\u001b[39m\u001b[39m_flags\u001b[39m\u001b[39m\"\u001b[39m, Flags(\u001b[39mself\u001b[39;49m, allows_duplicate_labels\u001b[39m=\u001b[39;49m\u001b[39mTrue\u001b[39;49;00m))\n",
      "\u001b[1;31mKeyboardInterrupt\u001b[0m: "
     ]
    }
   ],
   "source": [
    "# crear un arreglo donde los datos con el mismo dia entre dfNLM y dfPAM\n",
    "# se guardan en un arreglo\n",
    "Data = []\n",
    "for i in range(dfNLM.shape[0]):\n",
    "    for j in range(dfPAM.shape[0]):\n",
    "        if dfNLM.iloc[i]['Dia'] == dfPAM.iloc[j]['Dia']:\n",
    "            Data.append([dfNLM.iloc[i]['Dia'], dfNLM.iloc[i]['PM2.5'], dfPAM.iloc[j]['PM2.5']])\n",
    "            print (\"Guardado\")\n",
    "print (len(Data))"
   ]
  },
  {
   "cell_type": "code",
   "execution_count": null,
   "metadata": {},
   "outputs": [],
   "source": []
  }
 ],
 "metadata": {
  "kernelspec": {
   "display_name": "Python 3.10.4 ('MLearn')",
   "language": "python",
   "name": "python3"
  },
  "language_info": {
   "codemirror_mode": {
    "name": "ipython",
    "version": 3
   },
   "file_extension": ".py",
   "mimetype": "text/x-python",
   "name": "python",
   "nbconvert_exporter": "python",
   "pygments_lexer": "ipython3",
   "version": "3.10.4"
  },
  "orig_nbformat": 4,
  "vscode": {
   "interpreter": {
    "hash": "9178488e902897ccede7ccf72145ea4bf1db4863c1b153f9ec9b532ffe6212a3"
   }
  }
 },
 "nbformat": 4,
 "nbformat_minor": 2
}
